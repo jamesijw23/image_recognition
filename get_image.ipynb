{
 "cells": [
  {
   "cell_type": "code",
   "execution_count": null,
   "metadata": {},
   "outputs": [],
   "source": [
    "import PyPDF2\n",
    "from PyPDF2 import PdfFileReader, PdfFileWriter\n",
    "from pdf2image import convert_from_path\n",
    "import PIL\n",
    "from PIL import Image, ImageFilter\n",
    "from wand.image import Image as Img\n",
    "import os\n",
    "import os.path\n",
    "from PIL import Image\n",
    "import pyocr\n",
    "import pyocr.builders\n",
    "from PIL import Image\n",
    "import subprocess\n",
    "import pandas as pd\n",
    "tools = pyocr.get_available_tools()[0]\n",
    "# The tools are returned in the recommended order of usage\n",
    "\n",
    "langs = tools.get_available_languages()\n",
    "lang = langs[0]\n"
   ]
  },
  {
   "cell_type": "code",
   "execution_count": null,
   "metadata": {},
   "outputs": [],
   "source": [
    " "
   ]
  },
  {
   "cell_type": "code",
   "execution_count": null,
   "metadata": {},
   "outputs": [],
   "source": [
    "#pageObj = pdfReader.getPage(0) "
   ]
  },
  {
   "cell_type": "code",
   "execution_count": null,
   "metadata": {},
   "outputs": [],
   "source": []
  },
  {
   "cell_type": "code",
   "execution_count": null,
   "metadata": {},
   "outputs": [],
   "source": [
    "print(pageObj.cropBox.getLowerLeft())\n",
    "print(pageObj.cropBox.getUpperLeft())\n",
    "print(pageObj.cropBox.getUpperRight())\n",
    "print(pageObj.cropBox.getLowerRight())"
   ]
  },
  {
   "cell_type": "code",
   "execution_count": null,
   "metadata": {},
   "outputs": [],
   "source": [
    "72*(2.84)"
   ]
  },
  {
   "cell_type": "code",
   "execution_count": null,
   "metadata": {},
   "outputs": [],
   "source": [
    "## Got the first row\n",
    "## need to turn image into pixels"
   ]
  },
  {
   "cell_type": "code",
   "execution_count": null,
   "metadata": {},
   "outputs": [],
   "source": [
    "import pandas as pd\n",
    "\n",
    "getAnswers(\"filled_koa-ca-1.pdf\")"
   ]
  },
  {
   "cell_type": "code",
   "execution_count": null,
   "metadata": {
    "scrolled": true
   },
   "outputs": [],
   "source": [
    "###############################################################################\n",
    "# Main logic for making directories of student answers\n",
    "# The code takes in the packet of scanned answers and then \n",
    "# sorts the worksheets based on worksheet name and student name\n",
    "#\n",
    "# Student answers are then placed into their own subdirectory\n",
    "###############################################################################\n",
    "\n",
    "def getAnswers(pdfPacketName):\n",
    "    \n",
    "    sheet_id = []; name_id = []\n",
    "    pdfFileObj = open(pdfPacketName, 'rb') \n",
    "    pdfReader = PyPDF2.PdfFileReader(pdfFileObj) \n",
    "    print(pdfReader.numPages)\n",
    "        \n",
    "    for i in range(pdfReader.numPages):\n",
    "        pageObj = pdfReader.getPage(i)\n",
    "\n",
    "        pdfToPNG(pageObj, \"identifier\", (29, 740), (31 + 65, 745 + 26))\n",
    "        \n",
    "        \n",
    "        ###############################################################################\n",
    "        # This line of code processes the worksheet name\n",
    "        # It takes the PNG rectangle box, lightens the \n",
    "        # rectangle box around the sheet name, and then \n",
    "        # darkens the actual characters\n",
    "        # S.L. 7/18/19\n",
    "        ###############################################################################\n",
    "        bashCommand = \"\"\"convert identifier.png -type Grayscale -negate -define \n",
    "        morphology:compose=darken -morphology Thinning 'Rectangle:1x80+0+0<' -negate \n",
    "        out.png\"\"\" # output file\n",
    "        process = subprocess.Popen(bashCommand.split(), stdout=subprocess.PIPE)\n",
    "        output, error = process.communicate()\n",
    "        ###############################################################################\n",
    "\n",
    "        worksheetName = tools.image_to_string(Image.open('out.png'), \n",
    "                                     builder=pyocr.builders.DigitBuilder())\n",
    "\n",
    "        # Create worksheet directory if it doesn't exist\n",
    "        if not os.path.exists(worksheetName):\n",
    "            os.makedirs(worksheetName)\n",
    "            \n",
    "        pageObj = pdfReader.getPage(i)\n",
    "        writer = PdfFileWriter()\n",
    "        \n",
    "        pdfToPNG(pageObj, \"student\", (200, 739), (282, 775))\n",
    "\n",
    "        studentName = tools.image_to_string(Image.open('student.png'), \n",
    "                                     builder=pyocr.builders.DigitBuilder())\n",
    "        print(studentName)\n",
    "        name_id.append(studentName)\n",
    "        sheet_id.append(worksheetName)\n",
    "        pathName = worksheetName + \"/\" + studentName\n",
    "        print(pathName)\n",
    "\n",
    "        if not os.path.exists(pathName):\n",
    "            os.makedirs(pathName)\n",
    "\n",
    "        df = pd.read_csv('points.csv')\n",
    "\n",
    "        #df['Koa-CA-1'].str.split(';')\n",
    "        #for row in df.itertuples(index=True, name='Pandas'):\n",
    "        #    print getattr(row, \"c1\"), getattr(row, \"c2\")\n",
    "        #print(df)\n",
    "        matrix = [list(l) for l in zip(*df.values)]\n",
    "\n",
    "        getAttribute(pageObj, pathName, worksheetName, matrix)\n",
    "\n"
   ]
  },
  {
   "cell_type": "code",
   "execution_count": null,
   "metadata": {},
   "outputs": [],
   "source": [
    "#################################################################\n",
    "# outputName is the filename minus extension\n",
    "# Usage: pdfToJPG(pageObj, identifier, (x, y), (x, y))\n",
    "# this will create crop the pdf and creater identifier.jpg at\n",
    "# the given coordinates\n",
    "# TODO: pdfToPNG is a kind of inefficient function to keep calling\n",
    "# A future improvement would just be converting to PNG once and then\n",
    "# cropping, instead of converting pdf to png for each crop box\n",
    "# S.L. 7/18/19\n",
    "#################################################################\n",
    "\n",
    "def pdfToPNG(pageObj, fileName, bottomLeft, upperRight):\n",
    "\n",
    "    writer = PdfFileWriter()\n",
    "\n",
    "    pageObj.cropBox.lowerLeft = bottomLeft\n",
    "    pageObj.cropBox.upperRight = upperRight\n",
    "\n",
    "    writer.addPage(pageObj)\n",
    "    outstream = open(fileName + \".pdf\", 'wb')\n",
    "    writer.write(outstream)\n",
    "    outstream.close()\n",
    "    with Img(filename= fileName + \".pdf\", resolution=300) as img:   # convert pdf to jpg\n",
    "        img.compression_quality = 99 \n",
    "        img.save(filename= fileName + \".png\")\n",
    "    img = Image.open(fileName + '.png')\n",
    "    crop_img = img.crop((bottomLeft[0] / 72 * 300, (11 - (upperRight[1] / 72)) * 300, upperRight[0] / 72 * 300, (11 - (bottomLeft[1] / 72)) * 300))\n",
    "    crop_img.save(fileName + '.png')\n",
    "    os.remove(fileName + \".pdf\")\n",
    "    #img = Image.open(fileName + \".png\")\n",
    "    #img = img.convert('L')\n",
    "    #img = img.crop\n",
    "    #img.save(fileName + \".png\")"
   ]
  },
  {
   "cell_type": "code",
   "execution_count": null,
   "metadata": {},
   "outputs": [],
   "source": [
    "df = pd.DataFrame(sheet_id,  name_id)\n",
    "df.columns = ['sheet_id']\n",
    "df['student_id'] = df.index\n",
    "df.to_csv('students_work.csv')"
   ]
  },
  {
   "cell_type": "code",
   "execution_count": null,
   "metadata": {},
   "outputs": [],
   "source": [
    "df = pd.read_csv('points.csv')\n",
    "\n",
    "#df['Koa-CA-1'].str.split(';')\n",
    "#for row in df.itertuples(index=True, name='Pandas'):\n",
    "#    print getattr(row, \"c1\"), getattr(row, \"c2\")\n",
    "#print(df)\n",
    "matrix = [list(l) for l in zip(*df.values)]\n",
    "\n",
    "getAttribute(matrix[1])"
   ]
  },
  {
   "cell_type": "code",
   "execution_count": null,
   "metadata": {},
   "outputs": [],
   "source": [
    "#################################################################\n",
    "# getAttribute takes in a pageobject, pathname, and a dataframe\n",
    "# and writes the individual student answers in the corresponding\n",
    "# directory. Note: reliability depends on reading the correct\n",
    "# worksheet name and student ID. \n",
    "# S.L. 7/18/19\n",
    "#################################################################\n",
    "\n",
    "def getAttribute(pageObj, pathName, worksheetName, matrix):\n",
    "    \n",
    "    df = pd.read_csv('points.csv')\n",
    "    \n",
    "    matrix = [list(l) for l in zip(*df.values)]\n",
    "    try:\n",
    "        pointsList = df[worksheetName]\n",
    "    except:\n",
    "        print(\"Error: The CSV file does not contain points that correspond to the worksheet name - \" + worksheetName)\n",
    "        print(\"This can occur when the program misreads the worksheet name from the PDF file.\")\n",
    "        print(\"Note - This error means that an invalid directory has also been created in the top level.\")\n",
    "        pathname = input(\"\"\"Please enter the correct pathname in the format \\(Worksheet Name\\/Student Name if known\\), or\n",
    "        type 'quit' to stop the kernel\"\"\")\n",
    "        \n",
    "        if pathname == 'quit':\n",
    "            sys.exit(1)\n",
    "        else:\n",
    "            os.makedirs(pathName)\n",
    "    colIndex = df.columns.get_loc(worksheetName)\n",
    "     \n",
    "    for i in range(len(pointsList)):\n",
    "        \n",
    "        bottomLeft = getCorner(pointsList[i])\n",
    "        #print(bottomLeft)\n",
    "        topRight = getSides(bottomLeft, pointsList[i])\n",
    "        #print(topRight)\n",
    "        pdfToPNG(pageObj, pathName + \"/\" + matrix[colIndex - 1][i], bottomLeft, topRight)\n",
    "        print(matrix[colIndex - 1][i])\n",
    "        "
   ]
  },
  {
   "cell_type": "code",
   "execution_count": null,
   "metadata": {},
   "outputs": [],
   "source": [
    "#def getAnswer(pathname, bottomLeft, topRight):\n",
    "    "
   ]
  },
  {
   "cell_type": "code",
   "execution_count": null,
   "metadata": {},
   "outputs": [],
   "source": [
    "def getCorner(string): \n",
    "    #print(string[3:19])\n",
    "    bl = string.split(\"; size-\")[0].split(\"BL-\")[1].split(\",\")\n",
    "    return (((float(bl[0][1:]))) * 72, (11 - float(bl[1][:len(bl[1]) - 1])) * 72)"
   ]
  },
  {
   "cell_type": "code",
   "execution_count": null,
   "metadata": {},
   "outputs": [],
   "source": [
    "def getSides(bottomLeft, string):\n",
    "    string = string.split(\"; size-\")[1].split(\",\")\n",
    "    #print(string)\n",
    "    return((bottomLeft[0] + 72 * float(string[0][1:])), (bottomLeft[1] + 72 * float(string[1][:len(string[1]) - 1])))\n",
    "    \n",
    "    "
   ]
  },
  {
   "cell_type": "code",
   "execution_count": null,
   "metadata": {},
   "outputs": [],
   "source": []
  },
  {
   "cell_type": "code",
   "execution_count": null,
   "metadata": {},
   "outputs": [],
   "source": [
    "def imageprepare(argv):\n",
    "    \n",
    "    im = Image.open(argv).convert('L')\n",
    "    width = float(im.size[0])\n",
    "    height = float(im.size[1])\n",
    "    newImage = Image.new('L' , (28,28), (255)) ## Create white canvas of 28x28\n",
    "    \n",
    "    \n",
    "    if width > height:\n",
    "        nheight = int(round((20.0 / width * height), 0))\n",
    "        if (nheight == 0):\n",
    "            nheight = 1\n",
    "            \n",
    "        img = im.resize((20, nheight), Image.ANTIALIAS).filter(ImageFilter.SHARPEN)\n",
    "        wtop = int(round(((28 - nheight)/ 2),0))\n",
    "        newImage.paste(img, (4, wtop))\n",
    "    else:   \n",
    "        nwidth = int(round((20.0 / height * width), 0))\n",
    "        if(nwidth == 0):\n",
    "            nwidth = 1\n",
    "        img = im.resize((nwidth,20),Image.ANTIALIAS).filter(ImageFilter.SHARPEN)\n",
    "        wleft = int(round(((28 - nwidth) / 2), 0))\n",
    "        newImage.paste(img, (wleft,4))\n",
    "\n",
    "    tv = list(newImage.getdata())\n",
    "    \n",
    "    tva = [(255 - x)*1.0 / 255.0 for x in tv]\n",
    "  \n",
    "    return tva"
   ]
  },
  {
   "cell_type": "code",
   "execution_count": null,
   "metadata": {},
   "outputs": [],
   "source": [
    "d = imageprepare('A.png')"
   ]
  },
  {
   "cell_type": "code",
   "execution_count": null,
   "metadata": {},
   "outputs": [],
   "source": [
    "https://towardsdatascience.com/image-classification-in-10-minutes-with-mnist-dataset-54c35b77a38d\n",
    "import tensorflow as tf\n",
    "(x_train, y_train), (x_test, y_test) = tf.keras.datasets.mnist.load_data()"
   ]
  },
  {
   "cell_type": "code",
   "execution_count": null,
   "metadata": {},
   "outputs": [],
   "source": [
    "    \"\"\"    \n",
    "    for i in range(questions, 0, -1):\n",
    "        for j in range(parts):\n",
    "            if j not in answers[i - 1]:\n",
    "                continue\n",
    "            else:\n",
    "\n",
    "                fileName = \"image_crop_\" + \"Q\" + str(i) + \"_P\" + str(j)\n",
    "                #print(fileName)\n",
    "\n",
    "                leftSide = sideMargin + (horizantalSpacing * j) + (72 * j)\n",
    "                bottomSide = bottomMargin + ((5 - i) * 72) + ((5 - i) * verticalSpacing)\n",
    "\n",
    "                pageObj.cropBox.lowerLeft = (leftSide , bottomSide)\n",
    "                pageObj.cropBox.upperRight = (leftSide + 72 , bottomSide + 72)\n",
    "                writer.addPage(pageObj)\n",
    "                outstream = open(fileName + \".pdf\",'wb')\n",
    "                writer.write(outstream)\n",
    "                outstream.close()\n",
    "                with Img(filename= fileName + \".pdf\", resolution=300) as img:   # convert pdf to jpg\n",
    "                    img.compression_quality = 99 \n",
    "                    img.save(filename= fileName + \".jpg\")\n",
    "                    os.remove(fileName + \".pdf\")  #remove the pdf file\n",
    "    \"\"\""
   ]
  },
  {
   "cell_type": "code",
   "execution_count": null,
   "metadata": {},
   "outputs": [],
   "source": []
  }
 ],
 "metadata": {
  "hide_input": false,
  "kernelspec": {
   "display_name": "Python 3",
   "language": "python",
   "name": "python3"
  },
  "language_info": {
   "codemirror_mode": {
    "name": "ipython",
    "version": 3
   },
   "file_extension": ".py",
   "mimetype": "text/x-python",
   "name": "python",
   "nbconvert_exporter": "python",
   "pygments_lexer": "ipython3",
   "version": "3.6.4"
  },
  "toc": {
   "base_numbering": 1,
   "nav_menu": {},
   "number_sections": true,
   "sideBar": true,
   "skip_h1_title": false,
   "title_cell": "Table of Contents",
   "title_sidebar": "Contents",
   "toc_cell": false,
   "toc_position": {},
   "toc_section_display": true,
   "toc_window_display": false
  }
 },
 "nbformat": 4,
 "nbformat_minor": 2
}
