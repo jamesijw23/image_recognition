{
 "cells": [
  {
   "cell_type": "code",
   "execution_count": 124,
   "metadata": {},
   "outputs": [
    {
     "name": "stdout",
     "output_type": "stream",
     "text": [
      "eng\n"
     ]
    }
   ],
   "source": [
    "import PyPDF2\n",
    "from PyPDF2 import PdfFileReader, PdfFileWriter\n",
    "from pdf2image import convert_from_path\n",
    "import PIL\n",
    "from PIL import Image, ImageFilter\n",
    "from wand.image import Image as Img\n",
    "import os\n",
    "import os.path\n",
    "from PIL import Image\n",
    "import pyocr\n",
    "import pyocr.builders\n",
    "from PIL import Image\n",
    "import subprocess\n",
    "import pandas as pd\n",
    "import sys\n",
    "import scipy.misc\n",
    "tools = pyocr.get_available_tools()[0]\n",
    "# The tools are returned in the recommended order of usage\n",
    "\n",
    "langs = tools.get_available_languages()\n",
    "lang = langs[0]\n",
    "print(lang)\n"
   ]
  },
  {
   "cell_type": "code",
   "execution_count": 24,
   "metadata": {},
   "outputs": [
    {
     "ename": "SyntaxError",
     "evalue": "invalid syntax (<ipython-input-24-2e0f1c01d72b>, line 19)",
     "output_type": "error",
     "traceback": [
      "\u001b[1;36m  File \u001b[1;32m\"<ipython-input-24-2e0f1c01d72b>\"\u001b[1;36m, line \u001b[1;32m19\u001b[0m\n\u001b[1;33m    bashCommand = \"\"\"gsutil cp pageFive.png\"\"\" # output file\u001b[0m\n\u001b[1;37m                                                            \n^\u001b[0m\n\u001b[1;31mSyntaxError\u001b[0m\u001b[1;31m:\u001b[0m invalid syntax\n"
     ]
    }
   ],
   "source": [
    "\"\"\"\n",
    "pdfFileObj = open(\"filled_koa-ca-1.pdf\", 'rb') \n",
    "pdfReader = PyPDF2.PdfFileReader(pdfFileObj) \n",
    "pageObj = pdfReader.getPage(5)\n",
    "writer = PdfFileWriter()\n",
    "\n",
    "pageObj.cropBox.lowerLeft = (0,0)\n",
    "pageObj.cropBox.upperRight = (560, 920)\n",
    "\n",
    "writer.addPage(pageObj)\n",
    "outstream = open(\"pageFive\" + \".pdf\", 'wb')\n",
    "writer.write(outstream)\n",
    "outstream.close()\n",
    "with Img(filename= \"pageFive\" + \".pdf\", resolution=300) as img:   # convert pdf to jpg\n",
    "    img.compression_quality = 99 \n",
    "    img.save(filename= \"pageFive\" + \".png\")\n",
    "\n",
    "    \n",
    "bashCommand = \"\"\"gsutil cp pageFive.png\"\"\" # output file\n",
    "process = subprocess.Popen(bashCommand.split(), stdout=subprocess.PIPE)\n",
    "#output, error = process.communicate()\n",
    "#subprocess.run([\"pwd\"])\n",
    "#bashCommand = \"gsutil cp \" + os.path.dirname(os.path.abspath(\"pageFive.png\")) + \" gs://gato365packets\"\n",
    "#process = subprocess.Popen(bashCommand.split(), stdout=subprocess.PIPE)\n",
    "\"\"\""
   ]
  },
  {
   "cell_type": "code",
   "execution_count": 25,
   "metadata": {
    "scrolled": true
   },
   "outputs": [],
   "source": [
    "###############################################################################\n",
    "# Main logic for making directories of student answers\n",
    "# The code takes in the packet of scanned answers and then \n",
    "# sorts the worksheets based on worksheet name and student name\n",
    "#\n",
    "# Student answers are then placed into their own subdirectory\n",
    "###############################################################################\n",
    "\n",
    "def getAnswers(pdfPacketName):\n",
    "    \n",
    "    sheet_id = []; name_id = []\n",
    "    pdfFileObj = open(pdfPacketName, 'rb') \n",
    "    pdfReader = PyPDF2.PdfFileReader(pdfFileObj) \n",
    "    print(pdfReader.numPages)\n",
    "        \n",
    "    for i in range(pdfReader.numPages):\n",
    "        pageObj = pdfReader.getPage(i)\n",
    "\n",
    "        pdfToPNG(pageObj, \"identifier\", (29, 740), (31 + 65, 745 + 26))\n",
    "        \n",
    "        \n",
    "        ###############################################################################\n",
    "        # This line of code processes the worksheet name\n",
    "        # It takes the PNG rectangle box, lightens the \n",
    "        # rectangle box around the sheet name, and then \n",
    "        # darkens the actual characters\n",
    "        # S.L. 7/18/19\n",
    "        ###############################################################################\n",
    "        bashCommand = \"\"\"convert identifier.png -type Grayscale -negate -define morphology:compose=darken -morphology Thinning 'Rectangle:1x80+0+0<' -negate out.png\"\"\" # output file\n",
    "        process = subprocess.Popen(bashCommand.split(), stdout=subprocess.PIPE)\n",
    "        output, error = process.communicate()\n",
    "        ###############################################################################\n",
    "\n",
    "        worksheetName = tools.image_to_string(Image.open('identifier.png'), \n",
    "                                     builder=pyocr.builders.DigitBuilder())\n",
    "\n",
    "        # Create worksheet directory if it doesn't exist\n",
    "        if not os.path.exists(worksheetName):\n",
    "            os.makedirs(worksheetName)\n",
    "            \n",
    "        pageObj = pdfReader.getPage(i)\n",
    "        writer = PdfFileWriter()\n",
    "        \n",
    "        pdfToPNG(pageObj, \"student\", (200, 739), (282, 775))\n",
    "\n",
    "        studentName = tools.image_to_string(Image.open('student.png'), \n",
    "                                     builder=pyocr.builders.DigitBuilder())\n",
    "        print(studentName)\n",
    "        name_id.append(studentName)\n",
    "        sheet_id.append(worksheetName)\n",
    "        pathName = worksheetName + \"/\" + studentName\n",
    "        print(pathName)\n",
    "\n",
    "        if not os.path.exists(pathName):\n",
    "            os.makedirs(pathName)\n",
    "\n",
    "        df = pd.read_csv('points.csv')\n",
    "\n",
    "        #df['Koa-CA-1'].str.split(';')\n",
    "        #for row in df.itertuples(index=True, name='Pandas'):\n",
    "        #    print getattr(row, \"c1\"), getattr(row, \"c2\")\n",
    "        #print(df)\n",
    "        matrix = [list(l) for l in zip(*df.values)]\n",
    "\n",
    "        getAttribute(pageObj, pathName, worksheetName, matrix, pdfPacketName)\n",
    "    close(pdfPacketName)\n",
    "\n"
   ]
  },
  {
   "cell_type": "code",
   "execution_count": 26,
   "metadata": {},
   "outputs": [],
   "source": [
    "#################################################################\n",
    "# outputName is the filename minus extension\n",
    "# Usage: pdfToJPG(pageObj, identifier, (x, y), (x, y))\n",
    "# this will create crop the pdf and creater identifier.jpg at\n",
    "# the given coordinates\n",
    "# TODO: pdfToPNG is a kind of inefficient function to keep calling\n",
    "# A future improvement would just be converting to PNG once and then\n",
    "# cropping, instead of converting pdf to png for each crop box\n",
    "# S.L. 7/18/19\n",
    "#################################################################\n",
    "\n",
    "def pdfToPNG(pageObj, fileName, bottomLeft, upperRight):\n",
    "\n",
    "    writer = PdfFileWriter()\n",
    "\n",
    "    pageObj.cropBox.lowerLeft = bottomLeft\n",
    "    pageObj.cropBox.upperRight = upperRight\n",
    "\n",
    "    writer.addPage(pageObj)\n",
    "    outstream = open(fileName + \".pdf\", 'wb')\n",
    "    writer.write(outstream)\n",
    "    outstream.close()\n",
    "    with Img(filename= fileName + \".pdf\", resolution=300) as img:   # convert pdf to jpg\n",
    "        img.compression_quality = 99 \n",
    "        img.save(filename= fileName + \".png\")\n",
    "    img = Image.open(fileName + '.png')\n",
    "    crop_img = img.crop((bottomLeft[0] / 72 * 300, (11 - (upperRight[1] / 72)) * 300, upperRight[0] / 72 * 300, (11 - (bottomLeft[1] / 72)) * 300))\n",
    "    crop_img.save(fileName + '.png')\n",
    "    os.remove(fileName + \".pdf\")\n",
    "    #img = Image.open(fileName + \".png\")\n",
    "    #img = img.convert('L')\n",
    "    #img = img.crop\n",
    "    #img.save(fileName + \".png\")"
   ]
  },
  {
   "cell_type": "code",
   "execution_count": 27,
   "metadata": {},
   "outputs": [],
   "source": [
    "#################################################################\n",
    "# getAttribute takes in a pageobject, pathname, and a dataframe\n",
    "# and writes the individual student answers in the corresponding\n",
    "# directory. Note: reliability depends on reading the correct\n",
    "# worksheet name and student ID. \n",
    "# S.L. 7/18/19\n",
    "#################################################################\n",
    "\n",
    "def getAttribute(pageObj, pathName, worksheetName, matrix, pdfPacketName):\n",
    "    \n",
    "    df = pd.read_csv('points.csv')\n",
    "    \n",
    "    matrix = [list(l) for l in zip(*df.values)]\n",
    "    try:\n",
    "        pointsList = df[worksheetName]\n",
    "    except:\n",
    "        print(\"Error: The CSV file does not contain points that correspond to the worksheet name - \" + worksheetName)\n",
    "        print(\"This can occur when the program misreads the worksheet name from the PDF file.\")\n",
    "        print(\"Note - This error means that an invalid directory has also been created in the top level.\")\n",
    "        pathName = input(\"\"\"Please enter the correct pathname in the format \\(Worksheet Name\\/Student Name if known\\), or\n",
    "        type 'quit' to stop the kernel\"\"\")\n",
    "        \n",
    "        if pathName == 'quit':\n",
    "            close(pdfPacketName)\n",
    "            sys.exit(1)\n",
    "        else:\n",
    "            if not os.path.exists(pathName):\n",
    "                os.makedirs(pathName)\n",
    "            worksheetName = pathName.split(\"/\")[0]\n",
    "            \n",
    "            pointsList = df[worksheetName]\n",
    "    #colIndex = df.columns.get_loc(worksheetName)\n",
    "     \n",
    "    for i in range(len(pointsList)):\n",
    "        \n",
    "        bottomLeft = getCorner(pointsList[i])\n",
    "        #print(bottomLeft)\n",
    "        topRight = getSides(bottomLeft, pointsList[i])\n",
    "        problemNumber = getProblemNumber(pointsList[i])\n",
    "        #print(topRight)\n",
    "        pdfToPNG(pageObj, pathName + \"/\" + problemNumber, bottomLeft, topRight)"
   ]
  },
  {
   "cell_type": "code",
   "execution_count": 7,
   "metadata": {},
   "outputs": [],
   "source": [
    "#def getAnswer(pathname, bottomLeft, topRight):\n",
    "    "
   ]
  },
  {
   "cell_type": "code",
   "execution_count": 8,
   "metadata": {},
   "outputs": [],
   "source": [
    "def getCorner(string): \n",
    "    #print(string[3:19])\n",
    "    bl = string.split(\"; size-\")[0].split(\"BL-\")[1].split(\",\")\n",
    "    return (((float(bl[0][1:]))) * 72, (11 - float(bl[1][:len(bl[1]) - 1])) * 72)"
   ]
  },
  {
   "cell_type": "code",
   "execution_count": 9,
   "metadata": {},
   "outputs": [],
   "source": [
    "def getSides(bottomLeft, string):\n",
    "    string = string.split(\"; size-\")[1].split(\",\")\n",
    "    #print(string)\n",
    "    return((bottomLeft[0] + 72 * float(string[0][1:])), (bottomLeft[1] + 72 * float(string[1][:len(string[1]) - 1])))\n",
    "    \n",
    "    "
   ]
  },
  {
   "cell_type": "code",
   "execution_count": 10,
   "metadata": {},
   "outputs": [],
   "source": [
    "def getProblemNumber(string):\n",
    "    return string.split(\";\")[2].strip()"
   ]
  },
  {
   "cell_type": "code",
   "execution_count": 10,
   "metadata": {},
   "outputs": [
    {
     "name": "stdout",
     "output_type": "stream",
     "text": [
      "25\n"
     ]
    },
    {
     "ename": "FileNotFoundError",
     "evalue": "[WinError 3] The system cannot find the path specified: ''",
     "output_type": "error",
     "traceback": [
      "\u001b[1;31m---------------------------------------------------------------------------\u001b[0m",
      "\u001b[1;31mFileNotFoundError\u001b[0m                         Traceback (most recent call last)",
      "\u001b[1;32m<ipython-input-10-7842a415a963>\u001b[0m in \u001b[0;36m<module>\u001b[1;34m()\u001b[0m\n\u001b[0;32m      1\u001b[0m \u001b[1;32mimport\u001b[0m \u001b[0mpandas\u001b[0m \u001b[1;32mas\u001b[0m \u001b[0mpd\u001b[0m\u001b[1;33m\u001b[0m\u001b[0m\n\u001b[0;32m      2\u001b[0m \u001b[1;33m\u001b[0m\u001b[0m\n\u001b[1;32m----> 3\u001b[1;33m \u001b[0mgetAnswers\u001b[0m\u001b[1;33m(\u001b[0m\u001b[1;34m\"filled_koa-ca-1.pdf\"\u001b[0m\u001b[1;33m)\u001b[0m\u001b[1;33m\u001b[0m\u001b[0m\n\u001b[0m",
      "\u001b[1;32m<ipython-input-3-0277cf412fec>\u001b[0m in \u001b[0;36mgetAnswers\u001b[1;34m(pdfPacketName)\u001b[0m\n\u001b[0;32m     37\u001b[0m         \u001b[1;31m# Create worksheet directory if it doesn't exist\u001b[0m\u001b[1;33m\u001b[0m\u001b[1;33m\u001b[0m\u001b[0m\n\u001b[0;32m     38\u001b[0m         \u001b[1;32mif\u001b[0m \u001b[1;32mnot\u001b[0m \u001b[0mos\u001b[0m\u001b[1;33m.\u001b[0m\u001b[0mpath\u001b[0m\u001b[1;33m.\u001b[0m\u001b[0mexists\u001b[0m\u001b[1;33m(\u001b[0m\u001b[0mworksheetName\u001b[0m\u001b[1;33m)\u001b[0m\u001b[1;33m:\u001b[0m\u001b[1;33m\u001b[0m\u001b[0m\n\u001b[1;32m---> 39\u001b[1;33m             \u001b[0mos\u001b[0m\u001b[1;33m.\u001b[0m\u001b[0mmakedirs\u001b[0m\u001b[1;33m(\u001b[0m\u001b[0mworksheetName\u001b[0m\u001b[1;33m)\u001b[0m\u001b[1;33m\u001b[0m\u001b[0m\n\u001b[0m\u001b[0;32m     40\u001b[0m \u001b[1;33m\u001b[0m\u001b[0m\n\u001b[0;32m     41\u001b[0m         \u001b[0mpageObj\u001b[0m \u001b[1;33m=\u001b[0m \u001b[0mpdfReader\u001b[0m\u001b[1;33m.\u001b[0m\u001b[0mgetPage\u001b[0m\u001b[1;33m(\u001b[0m\u001b[0mi\u001b[0m\u001b[1;33m)\u001b[0m\u001b[1;33m\u001b[0m\u001b[0m\n",
      "\u001b[1;32mC:\\Users\\Steven Luu\\Python36\\lib\\os.py\u001b[0m in \u001b[0;36mmakedirs\u001b[1;34m(name, mode, exist_ok)\u001b[0m\n\u001b[0;32m    218\u001b[0m             \u001b[1;32mreturn\u001b[0m\u001b[1;33m\u001b[0m\u001b[0m\n\u001b[0;32m    219\u001b[0m     \u001b[1;32mtry\u001b[0m\u001b[1;33m:\u001b[0m\u001b[1;33m\u001b[0m\u001b[0m\n\u001b[1;32m--> 220\u001b[1;33m         \u001b[0mmkdir\u001b[0m\u001b[1;33m(\u001b[0m\u001b[0mname\u001b[0m\u001b[1;33m,\u001b[0m \u001b[0mmode\u001b[0m\u001b[1;33m)\u001b[0m\u001b[1;33m\u001b[0m\u001b[0m\n\u001b[0m\u001b[0;32m    221\u001b[0m     \u001b[1;32mexcept\u001b[0m \u001b[0mOSError\u001b[0m\u001b[1;33m:\u001b[0m\u001b[1;33m\u001b[0m\u001b[0m\n\u001b[0;32m    222\u001b[0m         \u001b[1;31m# Cannot rely on checking for EEXIST, since the operating system\u001b[0m\u001b[1;33m\u001b[0m\u001b[1;33m\u001b[0m\u001b[0m\n",
      "\u001b[1;31mFileNotFoundError\u001b[0m: [WinError 3] The system cannot find the path specified: ''"
     ]
    }
   ],
   "source": [
    "import pandas as pd\n",
    "\n",
    "getAnswers(\"filled_koa-ca-1.pdf\")"
   ]
  },
  {
   "cell_type": "code",
   "execution_count": 16,
   "metadata": {},
   "outputs": [],
   "source": [
    "import xlwt\n",
    "xCell = 0\n",
    "yCell = 0\n",
    "book = xlwt.Workbook()\n",
    "sh = book.add_sheet(\"answers\")\n",
    "book.save(\"trial.xls\")"
   ]
  },
  {
   "cell_type": "code",
   "execution_count": 17,
   "metadata": {},
   "outputs": [],
   "source": [
    "def imcrop_tosquare(img):\n",
    "    \"\"\"Make any image a square image.\n",
    "\n",
    "    Parameters\n",
    "    ----------\n",
    "    img : np.ndarray\n",
    "        Input image to crop, assumed at least 2d.\n",
    "\n",
    "    Returns\n",
    "    -------\n",
    "    crop : np.ndarray\n",
    "        Cropped image.\n",
    "    \"\"\"\n",
    "    if img.shape[0] > img.shape[1]:\n",
    "        extra = (img.shape[0] - img.shape[1])\n",
    "        if extra % 2 == 0:\n",
    "            crop = img[extra // 2:-extra // 2, :]\n",
    "        else:\n",
    "            crop = img[max(0, extra // 2 + 1):min(-1, -(extra // 2)), :]\n",
    "    elif img.shape[1] > img.shape[0]:\n",
    "        extra = (img.shape[1] - img.shape[0])\n",
    "        if extra % 2 == 0:\n",
    "            crop = img[:, extra // 2:-extra // 2]\n",
    "        else:\n",
    "            crop = img[:, max(0, extra // 2 + 1):min(-1, -(extra // 2))]\n",
    "    else:\n",
    "        crop = img\n",
    "    return crop"
   ]
  },
  {
   "cell_type": "code",
   "execution_count": 18,
   "metadata": {},
   "outputs": [],
   "source": [
    "def imcrop(img, amt):\n",
    "    if amt <= 0 or amt >= 1:\n",
    "        return img\n",
    "    row_i = int(img.shape[0] * amt) // 2\n",
    "    col_i = int(img.shape[1] * amt) // 2\n",
    "    return img[row_i:-row_i, col_i:-col_i]"
   ]
  },
  {
   "cell_type": "code",
   "execution_count": 19,
   "metadata": {},
   "outputs": [],
   "source": [
    "from scipy.misc import imresize\n",
    "imresize?"
   ]
  },
  {
   "cell_type": "code",
   "execution_count": 128,
   "metadata": {},
   "outputs": [
    {
     "name": "stderr",
     "output_type": "stream",
     "text": [
      "DeprecationWarning: `imresize` is deprecated!\n",
      "`imresize` is deprecated in SciPy 1.0.0, and will be removed in 1.2.0.\n",
      "Use ``skimage.transform.resize`` instead. [ipykernel_launcher.py:7]\n"
     ]
    },
    {
     "name": "stdout",
     "output_type": "stream",
     "text": [
      "[[[247 247 247 255]\n",
      "  [253 253 253 255]\n",
      "  [255 255 255 255]\n",
      "  ...\n",
      "  [255 255 255 255]\n",
      "  [255 255 255 255]\n",
      "  [255 255 255 255]]\n",
      "\n",
      " [[255 255 255 255]\n",
      "  [246 246 246 255]\n",
      "  [250 250 250 255]\n",
      "  ...\n",
      "  [251 251 251 255]\n",
      "  [231 231 231 255]\n",
      "  [247 247 247 255]]\n",
      "\n",
      " [[255 255 255 255]\n",
      "  [223 223 223 255]\n",
      "  [231 231 231 255]\n",
      "  ...\n",
      "  [218 218 218 255]\n",
      "  [193 193 193 255]\n",
      "  [238 238 238 255]]\n",
      "\n",
      " ...\n",
      "\n",
      " [[255 255 255 255]\n",
      "  [247 247 247 255]\n",
      "  [245 245 245 255]\n",
      "  ...\n",
      "  [246 246 246 255]\n",
      "  [228 228 228 255]\n",
      "  [230 230 230 255]]\n",
      "\n",
      " [[246 246 246 255]\n",
      "  [246 246 246 255]\n",
      "  [248 248 248 255]\n",
      "  ...\n",
      "  [240 240 240 255]\n",
      "  [230 230 230 255]\n",
      "  [235 235 235 255]]\n",
      "\n",
      " [[238 238 238 255]\n",
      "  [234 234 234 255]\n",
      "  [227 227 227 255]\n",
      "  ...\n",
      "  [254 254 254 255]\n",
      "  [254 254 254 255]\n",
      "  [254 254 254 255]]]\n"
     ]
    },
    {
     "data": {
      "image/png": "[encoded data removed]",
      "text/plain": [
       "<Figure size 432x288 with 1 Axes>"
      ]
     },
     "metadata": {
      "needs_background": "light"
     },
     "output_type": "display_data"
    }
   ],
   "source": [
    "import matplotlib.pyplot as plt\n",
    "import numpy as np\n",
    "img = plt.imread(\"pageOne.png\")\n",
    "plt.axis('off')\n",
    "square = imcrop_tosquare(img)\n",
    "crop = imcrop(square, 0.2)\n",
    "rsz = imresize(crop, (28, 28))\n",
    "print(rsz)\n",
    "\n",
    "plt.imshow(rsz)\n",
    "plt.savefig(\"test.png\", bbox_inches='tight', pad_inches=0)\n",
    "\n",
    "\n",
    "#img = Image.open(\"test.png\").convert('LA')\n",
    "\n",
    "#plt.imshow(\"test.png\", cmap='gray')\n",
    "#print(img.shape)\n",
    "\n",
    "#I = np.asarray(PIL.Image.open('test.png'))\n",
    "#im = PIL.Image.fromarray(np.uint8(I))\n",
    "#print(im)\n",
    "#img.save(\"test.png\")\n",
    "#img = plt.imread(\"test.png\")\n",
    "#img = plt.imread(\"test.png\")\n",
    "#crop = imcrop(square, 0.2)\n",
    "#rsz = imresize(crop, (28, 28))\n"
   ]
  },
  {
   "cell_type": "code",
   "execution_count": 141,
   "metadata": {},
   "outputs": [
    {
     "name": "stderr",
     "output_type": "stream",
     "text": [
      "DeprecationWarning: `imresize` is deprecated!\n",
      "`imresize` is deprecated in SciPy 1.0.0, and will be removed in 1.2.0.\n",
      "Use ``skimage.transform.resize`` instead. [ipykernel_launcher.py:7]\n"
     ]
    },
    {
     "data": {
      "text/plain": [
       "<matplotlib.image.AxesImage at 0x21fd3a184a8>"
      ]
     },
     "execution_count": 141,
     "metadata": {},
     "output_type": "execute_result"
    },
    {
     "data": {
      "image/png": "[encoded data removed]",
      "text/plain": [
       "<Figure size 432x288 with 1 Axes>"
      ]
     },
     "metadata": {
      "needs_background": "light"
     },
     "output_type": "display_data"
    }
   ],
   "source": [
    "plt.axis('off')\n",
    "img = plt.imread(\"test.png\")\n",
    "#plt.imshow(img)\n",
    "square = imcrop_tosquare(img)\n",
    "crop = imcrop(square, 0.2)\n",
    "rsz = imresize(crop, (28, 28))\n",
    "#plt.imshow(rsz)\n",
    "\n",
    "#print(rsz)\n",
    "intensity = rsz.sum(axis=2) // 4\n",
    "intensity.shape\n",
    "f=open('test.csv','ab')\n",
    "np.savetxt(f, intensity, delimiter=\",\", fmt='%s', header = 'fuck')\n",
    "f.close()\n",
    "\n",
    "#print(intensity)\n",
    "plt.imshow(rsz)\n",
    "\n",
    "\n",
    "#plt.savefig(\"test.png\")\n",
    "#np.savetxt(\"test.csv\", rsz, delimiter=\",\")"
   ]
  },
  {
   "cell_type": "code",
   "execution_count": 145,
   "metadata": {},
   "outputs": [],
   "source": [
    "def resizeAndExport(imageName, npArray, outputName):\n",
    "    plt.axis('off')\n",
    "    img = plt.imread(imageName)\n",
    "    square = imcrop_tosquare(img)\n",
    "    crop = imcrop(square, 0.2)\n",
    "    rsz = imresize(crop, (28, 28))\n",
    "\n",
    "    intensity = rsz.sum(axis=2) // 4\n",
    "\n",
    "    f=open('test.csv','ab')\n",
    "    np.savetxt(f, intensity, delimiter=\",\", fmt='%s', header = outputName)\n",
    "    f.close()\n",
    "    \n",
    "    "
   ]
  },
  {
   "cell_type": "code",
   "execution_count": null,
   "metadata": {},
   "outputs": [],
   "source": []
  }
 ],
 "metadata": {
  "hide_input": false,
  "kernelspec": {
   "display_name": "Python 3",
   "language": "python",
   "name": "python3"
  },
  "language_info": {
   "codemirror_mode": {
    "name": "ipython",
    "version": 3
   },
   "file_extension": ".py",
   "mimetype": "text/x-python",
   "name": "python",
   "nbconvert_exporter": "python",
   "pygments_lexer": "ipython3",
   "version": "3.6.4"
  },
  "toc": {
   "base_numbering": 1,
   "nav_menu": {},
   "number_sections": true,
   "sideBar": true,
   "skip_h1_title": false,
   "title_cell": "Table of Contents",
   "title_sidebar": "Contents",
   "toc_cell": false,
   "toc_position": {},
   "toc_section_display": true,
   "toc_window_display": false
  }
 },
 "nbformat": 4,
 "nbformat_minor": 2
}
