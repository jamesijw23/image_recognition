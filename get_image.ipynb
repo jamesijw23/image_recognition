{
 "cells": [
  {
   "cell_type": "code",
   "execution_count": 2,
   "metadata": {},
   "outputs": [],
   "source": [
    "import PyPDF2\n",
    "from PyPDF2 import PdfFileReader, PdfFileWriter\n",
    "from pdf2image import convert_from_path\n",
    "import PIL\n",
    "from PIL import Image, ImageFilter\n",
    "from wand.image import Image as Img\n",
    "import os\n",
    "import os.path\n",
    "from PIL import Image\n",
    "import pyocr\n",
    "import pyocr.builders\n",
    "from PIL import Image\n",
    "tools = pyocr.get_available_tools()[0]\n",
    "# The tools are returned in the recommended order of usage\n",
    "\n",
    "langs = tools.get_available_languages()\n",
    "lang = langs[0]\n"
   ]
  },
  {
   "cell_type": "code",
   "execution_count": 3,
   "metadata": {},
   "outputs": [
    {
     "name": "stdout",
     "output_type": "stream",
     "text": [
      "25\n"
     ]
    }
   ],
   "source": [
    "pdfFileObj = open('filled_koa-ca-1.pdf', 'rb') \n",
    "pdfReader = PyPDF2.PdfFileReader(pdfFileObj) \n",
    "print(pdfReader.numPages) "
   ]
  },
  {
   "cell_type": "code",
   "execution_count": 4,
   "metadata": {},
   "outputs": [],
   "source": [
    "pageObj = pdfReader.getPage(0) "
   ]
  },
  {
   "cell_type": "code",
   "execution_count": null,
   "metadata": {},
   "outputs": [],
   "source": []
  },
  {
   "cell_type": "code",
   "execution_count": 5,
   "metadata": {},
   "outputs": [
    {
     "name": "stdout",
     "output_type": "stream",
     "text": [
      "(0, 0)\n",
      "(0, 792)\n",
      "(612, 792)\n",
      "(612, 0)\n"
     ]
    }
   ],
   "source": [
    "print(pageObj.cropBox.getLowerLeft())\n",
    "print(pageObj.cropBox.getUpperLeft())\n",
    "print(pageObj.cropBox.getUpperRight())\n",
    "print(pageObj.cropBox.getLowerRight())"
   ]
  },
  {
   "cell_type": "code",
   "execution_count": 6,
   "metadata": {},
   "outputs": [
    {
     "data": {
      "text/plain": [
       "204.48"
      ]
     },
     "execution_count": 6,
     "metadata": {},
     "output_type": "execute_result"
    }
   ],
   "source": [
    "72*(2.84)"
   ]
  },
  {
   "cell_type": "code",
   "execution_count": 7,
   "metadata": {},
   "outputs": [],
   "source": [
    "## Got the first row\n",
    "## need to turn image into pixels"
   ]
  },
  {
   "cell_type": "code",
   "execution_count": null,
   "metadata": {},
   "outputs": [],
   "source": []
  },
  {
   "cell_type": "code",
   "execution_count": 11,
   "metadata": {},
   "outputs": [
    {
     "name": "stdout",
     "output_type": "stream",
     "text": [
      "Koa-CA-1\n",
      "Koa-SLO-19\n",
      "Koa-CA-1/Koa-SLO-19\n",
      "Koa-CA-1\n",
      "Koa-SLO-18\n",
      "Koa-CA-1/Koa-SLO-18\n",
      "Koa-CA-1\n",
      "Koa-SLO-17\n",
      "Koa-CA-1/Koa-SLO-17\n",
      "Koa-CA-1\n",
      "Koa-SLO-16\n",
      "Koa-CA-1/Koa-SLO-16\n",
      "Koa-CA-1\n",
      "Koa-SLO-15\n",
      "Koa-CA-1/Koa-SLO-15\n",
      "Koa-CA-1\n",
      "Koa-SLO-14\n",
      "Koa-CA-1/Koa-SLO-14\n",
      "Koa-CA-1\n",
      "Koa-SLO-13\n",
      "Koa-CA-1/Koa-SLO-13\n",
      "Koa-CA-1\n",
      "Koa-SLO-12\n",
      "Koa-CA-1/Koa-SLO-12\n",
      "Koa-CA-1\n",
      "Koa-SLO-11\n",
      "Koa-CA-1/Koa-SLO-11\n",
      "Koa-CA-1\n",
      "Koa-SLO-10\n",
      "Koa-CA-1/Koa-SLO-10\n",
      "Koa-CA-1\n",
      "Koa-SLO-1\n",
      "Koa-CA-1/Koa-SLO-1\n",
      "Koa-CA-1\n",
      "Koa-SLO-0\n",
      "Koa-CA-1/Koa-SLO-0\n",
      "Koa-CA-1\n",
      "Koa-SLO-9\n",
      "Koa-CA-1/Koa-SLO-9\n",
      "Koa-CA-1\n",
      "Koa-SLO-8\n",
      "Koa-CA-1/Koa-SLO-8\n",
      "Koa-CA-1\n",
      "Koa-SLO-7\n",
      "Koa-CA-1/Koa-SLO-7\n",
      "Koa-CA-1\n",
      "Koa-SLO-6\n",
      "Koa-CA-1/Koa-SLO-6\n",
      "Koa-CA-1\n",
      "Koa-SLO-5\n",
      "Koa-CA-1/Koa-SLO-5\n",
      "Koa-CA-1\n",
      "Koa-SLO-4\n",
      "Koa-CA-1/Koa-SLO-4\n",
      "Koa-CA-1\n",
      "Koa-SLO-3\n",
      "Koa-CA-1/Koa-SLO-3\n",
      "Koa-CA-1\n",
      "Koa-SLO-24\n",
      "Koa-CA-1/Koa-SLO-24\n",
      "Koa-CA-1\n",
      "Koa-SLO-23\n",
      "Koa-CA-1/Koa-SLO-23\n",
      "Koa-CA-1\n",
      "Koa-SLO-22\n",
      "Koa-CA-1/Koa-SLO-22\n",
      "Koa-CA-1\n",
      "Koa-SLO-21\n",
      "Koa-CA-1/Koa-SLO-21\n",
      "Koa-CA-1\n",
      "Koa-SLO-20\n",
      "Koa-CA-1/Koa-SLO-20\n",
      "Koa-CA-1\n",
      "Koa-SLO-2\n",
      "Koa-CA-1/Koa-SLO-2\n"
     ]
    },
    {
     "data": {
      "text/plain": [
       "'    \\nfor i in range(questions, 0, -1):\\n    for j in range(parts):\\n        if j not in answers[i - 1]:\\n            continue\\n        else:\\n            \\n            fileName = \"image_crop_\" + \"Q\" + str(i) + \"_P\" + str(j)\\n            #print(fileName)\\n\\n            leftSide = sideMargin + (horizantalSpacing * j) + (72 * j)\\n            bottomSide = bottomMargin + ((5 - i) * 72) + ((5 - i) * verticalSpacing)\\n\\n            pageObj.cropBox.lowerLeft = (leftSide , bottomSide)\\n            pageObj.cropBox.upperRight = (leftSide + 72 , bottomSide + 72)\\n            writer.addPage(pageObj)\\n            outstream = open(fileName + \".pdf\",\\'wb\\')\\n            writer.write(outstream)\\n            outstream.close()\\n            with Img(filename= fileName + \".pdf\", resolution=300) as img:   # convert pdf to jpg\\n                img.compression_quality = 99 \\n                img.save(filename= fileName + \".jpg\")\\n                os.remove(fileName + \".pdf\")  #remove the pdf file\\n'"
      ]
     },
     "execution_count": 11,
     "metadata": {},
     "output_type": "execute_result"
    }
   ],
   "source": [
    "for i in range(pdfReader.numPages):\n",
    "    pageObj = pdfReader.getPage(i)\n",
    "\n",
    "    bottomMargin = 63\n",
    "    sideMargin = 56\n",
    "    horizantalSpacing = 11\n",
    "    verticalSpacing = 47\n",
    "\n",
    "    writer = PdfFileWriter()\n",
    "\n",
    "    questions = 5\n",
    "    parts = 6\n",
    "    answers = [[1,2,4],[1,3,4],[2,3,5],[1,4,5],[0,3,5]]\n",
    "\n",
    "    pageObj.cropBox.lowerLeft = (29 , 740)\n",
    "    pageObj.cropBox.upperRight = (32 + 64 , 745 + 26)\n",
    "    fileName = \"identifier.pdf\"\n",
    "    writer.addPage(pageObj)\n",
    "    outstream = open(fileName,'wb')\n",
    "    writer.write(outstream)\n",
    "    outstream.close()\n",
    "    with Img(filename= \"identifier.pdf\", resolution=300) as img:   # convert pdf to jpg\n",
    "        img.compression_quality = 99 \n",
    "        img.save(filename= \"identifier.jpg\")\n",
    "    img = Image.open('identifier.jpg')\n",
    "    img = img.convert('L')\n",
    "    img.save('identifier.jpg')\n",
    "\n",
    "    bashCommand = \"convert identifier.jpg -type Grayscale -negate -define morphology:compose=darken -morphology Thinning 'Rectangle:1x80+0+0<' -negate out.png\"\n",
    "    import subprocess\n",
    "    process = subprocess.Popen(bashCommand.split(), stdout=subprocess.PIPE)\n",
    "    output, error = process.communicate()\n",
    "\n",
    "    worksheetName = tools.image_to_string(Image.open('out.png'), \n",
    "                                 builder=pyocr.builders.DigitBuilder())\n",
    "    print(worksheetName)\n",
    "    if not os.path.exists(worksheetName):\n",
    "        os.makedirs(worksheetName)\n",
    "\n",
    "    pageObj = pdfReader.getPage(i)\n",
    "    writer = PdfFileWriter()\n",
    "\n",
    "    pageObj.cropBox.lowerLeft = (200 , 739)\n",
    "    pageObj.cropBox.upperRight = (282 , 745 + 30)\n",
    "    fileName = \"student.pdf\"\n",
    "    writer.addPage(pageObj)\n",
    "    outstream = open(fileName,'wb')\n",
    "    writer.write(outstream)\n",
    "    outstream.close()\n",
    "\n",
    "    with Img(filename= \"student.pdf\", resolution=300) as img:   # convert pdf to jpg\n",
    "        img.compression_quality = 99 \n",
    "        img.save(filename= \"students.jpg\")\n",
    "    img = Image.open('students.jpg')\n",
    "    img = img.convert('L')\n",
    "    img.save('students.jpg')\n",
    "\n",
    "#bashCommand = \"convert students.jpg -type Grayscale -negate -define morphology:compose=darken -morphology Thinning 'Rectangle:1x80+0+0<' -negate studentsout.png\"\n",
    "#process = subprocess.Popen(bashCommand.split(), stdout=subprocess.PIPE)\n",
    "#output, error = process.communicate()\n",
    "\n",
    "    studentName = tools.image_to_string(Image.open('students.jpg'), \n",
    "                                 builder=pyocr.builders.DigitBuilder())\n",
    "    print(studentName)\n",
    "    \n",
    "    pathName = worksheetName + \"/\" + studentName\n",
    "    print(pathName)\n",
    "    if not os.path.exists(pathName):\n",
    "        os.makedirs(pathName)\n",
    "    \n",
    "\n",
    "\"\"\"    \n",
    "for i in range(questions, 0, -1):\n",
    "    for j in range(parts):\n",
    "        if j not in answers[i - 1]:\n",
    "            continue\n",
    "        else:\n",
    "            \n",
    "            fileName = \"image_crop_\" + \"Q\" + str(i) + \"_P\" + str(j)\n",
    "            #print(fileName)\n",
    "\n",
    "            leftSide = sideMargin + (horizantalSpacing * j) + (72 * j)\n",
    "            bottomSide = bottomMargin + ((5 - i) * 72) + ((5 - i) * verticalSpacing)\n",
    "\n",
    "            pageObj.cropBox.lowerLeft = (leftSide , bottomSide)\n",
    "            pageObj.cropBox.upperRight = (leftSide + 72 , bottomSide + 72)\n",
    "            writer.addPage(pageObj)\n",
    "            outstream = open(fileName + \".pdf\",'wb')\n",
    "            writer.write(outstream)\n",
    "            outstream.close()\n",
    "            with Img(filename= fileName + \".pdf\", resolution=300) as img:   # convert pdf to jpg\n",
    "                img.compression_quality = 99 \n",
    "                img.save(filename= fileName + \".jpg\")\n",
    "                os.remove(fileName + \".pdf\")  #remove the pdf file\n",
    "\"\"\""
   ]
  },
  {
   "cell_type": "code",
   "execution_count": null,
   "metadata": {},
   "outputs": [],
   "source": [
    "outstream = open(fileName,'wb')\n",
    "writer.write(outstream)\n",
    "outstream.close()"
   ]
  },
  {
   "cell_type": "code",
   "execution_count": 8,
   "metadata": {},
   "outputs": [],
   "source": [
    "def get_pixel(image, i, j):\n",
    "    # Inside image bounds?\n",
    "    width, height = image.size\n",
    "    if i > width or j > height:\n",
    "        return None\n",
    "\n",
    "    # Get Pixel\n",
    "    pixel = image.getpixel((i, j))\n",
    "    return pixel"
   ]
  },
  {
   "cell_type": "code",
   "execution_count": null,
   "metadata": {},
   "outputs": [],
   "source": [
    "im = Image.open('A.png', 'r')\n",
    "pix_val = list(im.getdata())\n",
    "pix_val_flat = [x for sets in pix_val for x in sets]"
   ]
  },
  {
   "cell_type": "code",
   "execution_count": null,
   "metadata": {},
   "outputs": [],
   "source": [
    "im.size"
   ]
  },
  {
   "cell_type": "code",
   "execution_count": 9,
   "metadata": {},
   "outputs": [],
   "source": [
    "def imageprepare(argv):\n",
    "    \n",
    "    im = Image.open(argv).convert('L')\n",
    "    width = float(im.size[0])\n",
    "    height = float(im.size[1])\n",
    "    newImage = Image.new('L', (28,28), (255)) ## Create white canvas of 28x28\n",
    "    \n",
    "    \n",
    "    if width > height:\n",
    "        nheight = int(round((20.0 / width * height), 0))\n",
    "        if (nheight == 0):\n",
    "            nheight = 1\n",
    "            \n",
    "        img = im.resize((20, nheight), Image.ANTIALIAS).filter(ImageFilter.SHARPEN)\n",
    "        wtop = int(round(((28 - nheight)/ 2),0))\n",
    "        newImage.paste(img, (4, wtop))\n",
    "    else:   \n",
    "        nwidth = int(round((20.0 / height * width), 0))\n",
    "        if(nwidth == 0):\n",
    "            nwidth = 1\n",
    "        img = im.resize((nwidth,20),Image.ANTIALIAS).filter(ImageFilter.SHARPEN)\n",
    "        wleft = int(round(((28 - nwidth) / 2), 0))\n",
    "        newImage.paste(img, (wleft,4))\n",
    "\n",
    "    tv = list(newImage.getdata())\n",
    "    \n",
    "    tva = [(255 - x)*1.0 / 255.0 for x in tv]\n",
    "  \n",
    "    return tva"
   ]
  },
  {
   "cell_type": "code",
   "execution_count": null,
   "metadata": {},
   "outputs": [],
   "source": [
    "d = imageprepare('A.png')"
   ]
  },
  {
   "cell_type": "code",
   "execution_count": null,
   "metadata": {},
   "outputs": [],
   "source": [
    "https://towardsdatascience.com/image-classification-in-10-minutes-with-mnist-dataset-54c35b77a38d\n",
    "import tensorflow as tf\n",
    "(x_train, y_train), (x_test, y_test) = tf.keras.datasets.mnist.load_data()"
   ]
  },
  {
   "cell_type": "code",
   "execution_count": null,
   "metadata": {},
   "outputs": [],
   "source": []
  }
 ],
 "metadata": {
  "hide_input": false,
  "kernelspec": {
   "display_name": "Python 3",
   "language": "python",
   "name": "python3"
  },
  "language_info": {
   "codemirror_mode": {
    "name": "ipython",
    "version": 3
   },
   "file_extension": ".py",
   "mimetype": "text/x-python",
   "name": "python",
   "nbconvert_exporter": "python",
   "pygments_lexer": "ipython3",
   "version": "3.6.4"
  },
  "toc": {
   "base_numbering": 1,
   "nav_menu": {},
   "number_sections": true,
   "sideBar": true,
   "skip_h1_title": false,
   "title_cell": "Table of Contents",
   "title_sidebar": "Contents",
   "toc_cell": false,
   "toc_position": {},
   "toc_section_display": true,
   "toc_window_display": false
  }
 },
 "nbformat": 4,
 "nbformat_minor": 2
}
